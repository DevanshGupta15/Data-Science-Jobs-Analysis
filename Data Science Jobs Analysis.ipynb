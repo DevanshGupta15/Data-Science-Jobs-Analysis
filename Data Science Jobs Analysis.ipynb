{
 "cells": [
  {
   "cell_type": "code",
   "execution_count": 1,
   "id": "d71c2fbf",
   "metadata": {},
   "outputs": [],
   "source": [
    "import pandas as pd"
   ]
  },
  {
   "cell_type": "code",
   "execution_count": 2,
   "id": "9dd6325f",
   "metadata": {},
   "outputs": [],
   "source": [
    "df = pd.read_csv(\"ds.salaries.csv\")"
   ]
  },
  {
   "cell_type": "code",
   "execution_count": 3,
   "id": "acc3f4e1",
   "metadata": {},
   "outputs": [
    {
     "data": {
      "text/html": [
       "<div>\n",
       "<style scoped>\n",
       "    .dataframe tbody tr th:only-of-type {\n",
       "        vertical-align: middle;\n",
       "    }\n",
       "\n",
       "    .dataframe tbody tr th {\n",
       "        vertical-align: top;\n",
       "    }\n",
       "\n",
       "    .dataframe thead th {\n",
       "        text-align: right;\n",
       "    }\n",
       "</style>\n",
       "<table border=\"1\" class=\"dataframe\">\n",
       "  <thead>\n",
       "    <tr style=\"text-align: right;\">\n",
       "      <th></th>\n",
       "      <th>Unnamed: 0</th>\n",
       "      <th>work_year</th>\n",
       "      <th>experience_level</th>\n",
       "      <th>employment_type</th>\n",
       "      <th>job_title</th>\n",
       "      <th>salary</th>\n",
       "      <th>salary_currency</th>\n",
       "      <th>salary_in_usd</th>\n",
       "      <th>employee_residence</th>\n",
       "      <th>remote_ratio</th>\n",
       "      <th>company_location</th>\n",
       "      <th>company_size</th>\n",
       "    </tr>\n",
       "  </thead>\n",
       "  <tbody>\n",
       "    <tr>\n",
       "      <th>0</th>\n",
       "      <td>0</td>\n",
       "      <td>2020</td>\n",
       "      <td>MI</td>\n",
       "      <td>FT</td>\n",
       "      <td>Data Scientist</td>\n",
       "      <td>70000</td>\n",
       "      <td>EUR</td>\n",
       "      <td>79833</td>\n",
       "      <td>DE</td>\n",
       "      <td>0</td>\n",
       "      <td>DE</td>\n",
       "      <td>L</td>\n",
       "    </tr>\n",
       "    <tr>\n",
       "      <th>1</th>\n",
       "      <td>1</td>\n",
       "      <td>2020</td>\n",
       "      <td>SE</td>\n",
       "      <td>FT</td>\n",
       "      <td>Machine Learning Scientist</td>\n",
       "      <td>260000</td>\n",
       "      <td>USD</td>\n",
       "      <td>260000</td>\n",
       "      <td>JP</td>\n",
       "      <td>0</td>\n",
       "      <td>JP</td>\n",
       "      <td>S</td>\n",
       "    </tr>\n",
       "    <tr>\n",
       "      <th>2</th>\n",
       "      <td>2</td>\n",
       "      <td>2020</td>\n",
       "      <td>SE</td>\n",
       "      <td>FT</td>\n",
       "      <td>Big Data Engineer</td>\n",
       "      <td>85000</td>\n",
       "      <td>GBP</td>\n",
       "      <td>109024</td>\n",
       "      <td>GB</td>\n",
       "      <td>50</td>\n",
       "      <td>GB</td>\n",
       "      <td>M</td>\n",
       "    </tr>\n",
       "    <tr>\n",
       "      <th>3</th>\n",
       "      <td>3</td>\n",
       "      <td>2020</td>\n",
       "      <td>MI</td>\n",
       "      <td>FT</td>\n",
       "      <td>Product Data Analyst</td>\n",
       "      <td>20000</td>\n",
       "      <td>USD</td>\n",
       "      <td>20000</td>\n",
       "      <td>HN</td>\n",
       "      <td>0</td>\n",
       "      <td>HN</td>\n",
       "      <td>S</td>\n",
       "    </tr>\n",
       "    <tr>\n",
       "      <th>4</th>\n",
       "      <td>4</td>\n",
       "      <td>2020</td>\n",
       "      <td>SE</td>\n",
       "      <td>FT</td>\n",
       "      <td>Machine Learning Engineer</td>\n",
       "      <td>150000</td>\n",
       "      <td>USD</td>\n",
       "      <td>150000</td>\n",
       "      <td>US</td>\n",
       "      <td>50</td>\n",
       "      <td>US</td>\n",
       "      <td>L</td>\n",
       "    </tr>\n",
       "  </tbody>\n",
       "</table>\n",
       "</div>"
      ],
      "text/plain": [
       "   Unnamed: 0  work_year experience_level employment_type  \\\n",
       "0           0       2020               MI              FT   \n",
       "1           1       2020               SE              FT   \n",
       "2           2       2020               SE              FT   \n",
       "3           3       2020               MI              FT   \n",
       "4           4       2020               SE              FT   \n",
       "\n",
       "                    job_title  salary salary_currency  salary_in_usd  \\\n",
       "0              Data Scientist   70000             EUR          79833   \n",
       "1  Machine Learning Scientist  260000             USD         260000   \n",
       "2           Big Data Engineer   85000             GBP         109024   \n",
       "3        Product Data Analyst   20000             USD          20000   \n",
       "4   Machine Learning Engineer  150000             USD         150000   \n",
       "\n",
       "  employee_residence  remote_ratio company_location company_size  \n",
       "0                 DE             0               DE            L  \n",
       "1                 JP             0               JP            S  \n",
       "2                 GB            50               GB            M  \n",
       "3                 HN             0               HN            S  \n",
       "4                 US            50               US            L  "
      ]
     },
     "execution_count": 3,
     "metadata": {},
     "output_type": "execute_result"
    }
   ],
   "source": [
    "df.head(5)"
   ]
  },
  {
   "cell_type": "code",
   "execution_count": 4,
   "id": "211616a7",
   "metadata": {},
   "outputs": [
    {
     "data": {
      "text/plain": [
       "(607, 12)"
      ]
     },
     "execution_count": 4,
     "metadata": {},
     "output_type": "execute_result"
    }
   ],
   "source": [
    "df.shape"
   ]
  },
  {
   "cell_type": "code",
   "execution_count": 5,
   "id": "20fe390f",
   "metadata": {},
   "outputs": [
    {
     "data": {
      "text/plain": [
       "Unnamed: 0            0\n",
       "work_year             0\n",
       "experience_level      0\n",
       "employment_type       0\n",
       "job_title             0\n",
       "salary                0\n",
       "salary_currency       0\n",
       "salary_in_usd         0\n",
       "employee_residence    0\n",
       "remote_ratio          0\n",
       "company_location      0\n",
       "company_size          0\n",
       "dtype: int64"
      ]
     },
     "execution_count": 5,
     "metadata": {},
     "output_type": "execute_result"
    }
   ],
   "source": [
    "df.isnull().sum()"
   ]
  },
  {
   "cell_type": "code",
   "execution_count": 6,
   "id": "137bff49",
   "metadata": {},
   "outputs": [
    {
     "name": "stdout",
     "output_type": "stream",
     "text": [
      "<class 'pandas.core.frame.DataFrame'>\n",
      "RangeIndex: 607 entries, 0 to 606\n",
      "Data columns (total 12 columns):\n",
      " #   Column              Non-Null Count  Dtype \n",
      "---  ------              --------------  ----- \n",
      " 0   Unnamed: 0          607 non-null    int64 \n",
      " 1   work_year           607 non-null    int64 \n",
      " 2   experience_level    607 non-null    object\n",
      " 3   employment_type     607 non-null    object\n",
      " 4   job_title           607 non-null    object\n",
      " 5   salary              607 non-null    int64 \n",
      " 6   salary_currency     607 non-null    object\n",
      " 7   salary_in_usd       607 non-null    int64 \n",
      " 8   employee_residence  607 non-null    object\n",
      " 9   remote_ratio        607 non-null    int64 \n",
      " 10  company_location    607 non-null    object\n",
      " 11  company_size        607 non-null    object\n",
      "dtypes: int64(5), object(7)\n",
      "memory usage: 57.0+ KB\n"
     ]
    }
   ],
   "source": [
    "df.info()"
   ]
  },
  {
   "cell_type": "code",
   "execution_count": 7,
   "id": "c8528fcd",
   "metadata": {},
   "outputs": [],
   "source": [
    "df=df.drop(columns=\"Unnamed: 0\")"
   ]
  },
  {
   "cell_type": "code",
   "execution_count": 8,
   "id": "42a1d3b2",
   "metadata": {},
   "outputs": [
    {
     "data": {
      "text/plain": [
       "SE    280\n",
       "MI    213\n",
       "EN     88\n",
       "EX     26\n",
       "Name: experience_level, dtype: int64"
      ]
     },
     "execution_count": 8,
     "metadata": {},
     "output_type": "execute_result"
    }
   ],
   "source": [
    "df[\"experience_level\"].value_counts()"
   ]
  },
  {
   "cell_type": "code",
   "execution_count": 9,
   "id": "acf143d9",
   "metadata": {},
   "outputs": [
    {
     "name": "stderr",
     "output_type": "stream",
     "text": [
      "/Users/devansh/opt/anaconda3/lib/python3.9/site-packages/seaborn/_decorators.py:36: FutureWarning: Pass the following variable as a keyword arg: x. From version 0.12, the only valid positional argument will be `data`, and passing other arguments without an explicit keyword will result in an error or misinterpretation.\n",
      "  warnings.warn(\n"
     ]
    },
    {
     "data": {
      "text/plain": [
       "<AxesSubplot:xlabel='employment_type', ylabel='count'>"
      ]
     },
     "execution_count": 9,
     "metadata": {},
     "output_type": "execute_result"
    },
    {
     "data": {
      "image/png": "[encoded data removed]",
      "text/plain": [
       "<Figure size 432x288 with 1 Axes>"
      ]
     },
     "metadata": {
      "needs_background": "light"
     },
     "output_type": "display_data"
    }
   ],
   "source": [
    "import seaborn as sns\n",
    "sns.countplot(df[\"employment_type\"])"
   ]
  },
  {
   "cell_type": "code",
   "execution_count": 10,
   "id": "d0ef11b5",
   "metadata": {},
   "outputs": [
    {
     "data": {
      "text/plain": [
       "Data Scientist                              143\n",
       "Data Engineer                               132\n",
       "Data Analyst                                 97\n",
       "Machine Learning Engineer                    41\n",
       "Research Scientist                           16\n",
       "Data Science Manager                         12\n",
       "Data Architect                               11\n",
       "Big Data Engineer                             8\n",
       "Machine Learning Scientist                    8\n",
       "Principal Data Scientist                      7\n",
       "AI Scientist                                  7\n",
       "Data Science Consultant                       7\n",
       "Director of Data Science                      7\n",
       "Data Analytics Manager                        7\n",
       "ML Engineer                                   6\n",
       "Computer Vision Engineer                      6\n",
       "BI Data Analyst                               6\n",
       "Lead Data Engineer                            6\n",
       "Data Engineering Manager                      5\n",
       "Business Data Analyst                         5\n",
       "Head of Data                                  5\n",
       "Applied Data Scientist                        5\n",
       "Applied Machine Learning Scientist            4\n",
       "Head of Data Science                          4\n",
       "Analytics Engineer                            4\n",
       "Data Analytics Engineer                       4\n",
       "Machine Learning Developer                    3\n",
       "Machine Learning Infrastructure Engineer      3\n",
       "Lead Data Scientist                           3\n",
       "Computer Vision Software Engineer             3\n",
       "Lead Data Analyst                             3\n",
       "Data Science Engineer                         3\n",
       "Principal Data Engineer                       3\n",
       "Principal Data Analyst                        2\n",
       "ETL Developer                                 2\n",
       "Product Data Analyst                          2\n",
       "Director of Data Engineering                  2\n",
       "Financial Data Analyst                        2\n",
       "Cloud Data Engineer                           2\n",
       "Lead Machine Learning Engineer                1\n",
       "NLP Engineer                                  1\n",
       "Head of Machine Learning                      1\n",
       "3D Computer Vision Researcher                 1\n",
       "Data Specialist                               1\n",
       "Staff Data Scientist                          1\n",
       "Big Data Architect                            1\n",
       "Finance Data Analyst                          1\n",
       "Marketing Data Analyst                        1\n",
       "Machine Learning Manager                      1\n",
       "Data Analytics Lead                           1\n",
       "Name: job_title, dtype: int64"
      ]
     },
     "execution_count": 10,
     "metadata": {},
     "output_type": "execute_result"
    }
   ],
   "source": [
    "df[\"job_title\"].value_counts()"
   ]
  },
  {
   "cell_type": "code",
   "execution_count": 11,
   "id": "27aec4da",
   "metadata": {},
   "outputs": [
    {
     "name": "stderr",
     "output_type": "stream",
     "text": [
      "/Users/devansh/opt/anaconda3/lib/python3.9/site-packages/seaborn/_decorators.py:36: FutureWarning: Pass the following variable as a keyword arg: x. From version 0.12, the only valid positional argument will be `data`, and passing other arguments without an explicit keyword will result in an error or misinterpretation.\n",
      "  warnings.warn(\n"
     ]
    },
    {
     "data": {
      "text/plain": [
       "<AxesSubplot:xlabel='company_size', ylabel='count'>"
      ]
     },
     "execution_count": 11,
     "metadata": {},
     "output_type": "execute_result"
    },
    {
     "data": {
      "image/png": "[encoded data removed]",
      "text/plain": [
       "<Figure size 432x288 with 1 Axes>"
      ]
     },
     "metadata": {
      "needs_background": "light"
     },
     "output_type": "display_data"
    }
   ],
   "source": [
    "sns.countplot(df[\"company_size\"])"
   ]
  },
  {
   "cell_type": "code",
   "execution_count": null,
   "id": "26c93d32",
   "metadata": {},
   "outputs": [],
   "source": []
  },
  {
   "cell_type": "code",
   "execution_count": 13,
   "id": "9bc52c8f",
   "metadata": {},
   "outputs": [
    {
     "data": {
      "text/plain": [
       "2022    318\n",
       "2021    217\n",
       "2020     72\n",
       "Name: work_year, dtype: int64"
      ]
     },
     "execution_count": 13,
     "metadata": {},
     "output_type": "execute_result"
    }
   ],
   "source": [
    "df[\"work_year\"].value_counts()"
   ]
  },
  {
   "cell_type": "code",
   "execution_count": 14,
   "id": "b60b4708",
   "metadata": {},
   "outputs": [
    {
     "ename": "NameError",
     "evalue": "name 'top_10_comapany_location' is not defined",
     "output_type": "error",
     "traceback": [
      "\u001b[0;31m---------------------------------------------------------------------------\u001b[0m",
      "\u001b[0;31mNameError\u001b[0m                                 Traceback (most recent call last)",
      "Input \u001b[0;32mIn [14]\u001b[0m, in \u001b[0;36m<cell line: 1>\u001b[0;34m()\u001b[0m\n\u001b[0;32m----> 1\u001b[0m top_10_comapany_location\u001b[38;5;241m=\u001b[39m\u001b[43mtop_10_comapany_location\u001b[49m[:\u001b[38;5;241m10\u001b[39m]\n",
      "\u001b[0;31mNameError\u001b[0m: name 'top_10_comapany_location' is not defined"
     ]
    }
   ],
   "source": [
    "top_10_comapany_location=top_10_comapany_location[:10]"
   ]
  },
  {
   "cell_type": "code",
   "execution_count": 15,
   "id": "f1ec47b0",
   "metadata": {},
   "outputs": [
    {
     "data": {
      "text/plain": [
       "work_year              int64\n",
       "experience_level      object\n",
       "employment_type       object\n",
       "job_title             object\n",
       "salary                 int64\n",
       "salary_currency       object\n",
       "salary_in_usd          int64\n",
       "employee_residence    object\n",
       "remote_ratio           int64\n",
       "company_location      object\n",
       "company_size          object\n",
       "dtype: object"
      ]
     },
     "execution_count": 15,
     "metadata": {},
     "output_type": "execute_result"
    }
   ],
   "source": [
    "df.dtypes"
   ]
  },
  {
   "cell_type": "code",
   "execution_count": 16,
   "id": "8bf76596",
   "metadata": {},
   "outputs": [],
   "source": [
    "df=df.drop(columns=[\"salary_currency\",\"salary\"])"
   ]
  },
  {
   "cell_type": "code",
   "execution_count": 17,
   "id": "e713e24b",
   "metadata": {},
   "outputs": [
    {
     "data": {
      "text/plain": [
       "(607, 9)"
      ]
     },
     "execution_count": 17,
     "metadata": {},
     "output_type": "execute_result"
    }
   ],
   "source": [
    "df.shape"
   ]
  },
  {
   "cell_type": "code",
   "execution_count": 18,
   "id": "f4683732",
   "metadata": {},
   "outputs": [
    {
     "data": {
      "text/html": [
       "<div>\n",
       "<style scoped>\n",
       "    .dataframe tbody tr th:only-of-type {\n",
       "        vertical-align: middle;\n",
       "    }\n",
       "\n",
       "    .dataframe tbody tr th {\n",
       "        vertical-align: top;\n",
       "    }\n",
       "\n",
       "    .dataframe thead th {\n",
       "        text-align: right;\n",
       "    }\n",
       "</style>\n",
       "<table border=\"1\" class=\"dataframe\">\n",
       "  <thead>\n",
       "    <tr style=\"text-align: right;\">\n",
       "      <th></th>\n",
       "      <th>work_year</th>\n",
       "      <th>experience_level</th>\n",
       "      <th>employment_type</th>\n",
       "      <th>job_title</th>\n",
       "      <th>salary_in_usd</th>\n",
       "      <th>employee_residence</th>\n",
       "      <th>remote_ratio</th>\n",
       "      <th>company_location</th>\n",
       "      <th>company_size</th>\n",
       "    </tr>\n",
       "  </thead>\n",
       "  <tbody>\n",
       "    <tr>\n",
       "      <th>0</th>\n",
       "      <td>2020</td>\n",
       "      <td>MI</td>\n",
       "      <td>FT</td>\n",
       "      <td>Data Scientist</td>\n",
       "      <td>79833</td>\n",
       "      <td>DE</td>\n",
       "      <td>0</td>\n",
       "      <td>DE</td>\n",
       "      <td>L</td>\n",
       "    </tr>\n",
       "    <tr>\n",
       "      <th>1</th>\n",
       "      <td>2020</td>\n",
       "      <td>SE</td>\n",
       "      <td>FT</td>\n",
       "      <td>Machine Learning Scientist</td>\n",
       "      <td>260000</td>\n",
       "      <td>JP</td>\n",
       "      <td>0</td>\n",
       "      <td>JP</td>\n",
       "      <td>S</td>\n",
       "    </tr>\n",
       "  </tbody>\n",
       "</table>\n",
       "</div>"
      ],
      "text/plain": [
       "   work_year experience_level employment_type                   job_title  \\\n",
       "0       2020               MI              FT              Data Scientist   \n",
       "1       2020               SE              FT  Machine Learning Scientist   \n",
       "\n",
       "   salary_in_usd employee_residence  remote_ratio company_location  \\\n",
       "0          79833                 DE             0               DE   \n",
       "1         260000                 JP             0               JP   \n",
       "\n",
       "  company_size  \n",
       "0            L  \n",
       "1            S  "
      ]
     },
     "execution_count": 18,
     "metadata": {},
     "output_type": "execute_result"
    }
   ],
   "source": [
    "df.head(2)"
   ]
  },
  {
   "cell_type": "code",
   "execution_count": 19,
   "id": "fd304216",
   "metadata": {},
   "outputs": [
    {
     "data": {
      "text/plain": [
       "100    381\n",
       "0      127\n",
       "50      99\n",
       "Name: remote_ratio, dtype: int64"
      ]
     },
     "execution_count": 19,
     "metadata": {},
     "output_type": "execute_result"
    }
   ],
   "source": [
    "df[\"remote_ratio\"].value_counts()"
   ]
  },
  {
   "cell_type": "code",
   "execution_count": 20,
   "id": "758ebef4",
   "metadata": {},
   "outputs": [],
   "source": [
    "from sklearn.preprocessing import LabelEncoder\n",
    "coder = LabelEncoder()\n",
    "df[\"experience_level\"]=coder.fit_transform(df[\"experience_level\"])\n",
    "df[\"employment_type\"]= coder.fit_transform(df[\"employment_type\"])\n",
    "df[\"job_title\"] = coder.fit_transform(df[\"job_title\"])\n",
    "df[\"employee_residence\"] =coder.fit_transform(df[\"employee_residence\"])\n",
    "df[\"company_location\"] =coder.fit_transform(df[\"company_location\"])\n",
    "df[\"employee_residence\"] =coder.fit_transform(df[\"employee_residence\"])\n",
    "df[\"company_size\"]=coder.fit_transform(df[\"company_size\"])"
   ]
  },
  {
   "cell_type": "code",
   "execution_count": 21,
   "id": "4818a25e",
   "metadata": {},
   "outputs": [
    {
     "data": {
      "text/plain": [
       "work_year             int64\n",
       "experience_level      int64\n",
       "employment_type       int64\n",
       "job_title             int64\n",
       "salary_in_usd         int64\n",
       "employee_residence    int64\n",
       "remote_ratio          int64\n",
       "company_location      int64\n",
       "company_size          int64\n",
       "dtype: object"
      ]
     },
     "execution_count": 21,
     "metadata": {},
     "output_type": "execute_result"
    }
   ],
   "source": [
    "df.dtypes"
   ]
  },
  {
   "cell_type": "code",
   "execution_count": 22,
   "id": "e162e5c0",
   "metadata": {},
   "outputs": [
    {
     "data": {
      "image/png": "[encoded data removed]",
      "text/plain": [
       "<Figure size 1008x720 with 2 Axes>"
      ]
     },
     "metadata": {
      "needs_background": "light"
     },
     "output_type": "display_data"
    }
   ],
   "source": [
    "plt.figure(figsize = (14, 10))\n",
    "sns.heatmap(df.corr(), annot = True, fmt = \".1f\", linewidths = .7)\n",
    "plt.show()"
   ]
  },
  {
   "cell_type": "code",
   "execution_count": 23,
   "id": "5d4d9a0f",
   "metadata": {},
   "outputs": [
    {
     "data": {
      "text/html": [
       "<div>\n",
       "<style scoped>\n",
       "    .dataframe tbody tr th:only-of-type {\n",
       "        vertical-align: middle;\n",
       "    }\n",
       "\n",
       "    .dataframe tbody tr th {\n",
       "        vertical-align: top;\n",
       "    }\n",
       "\n",
       "    .dataframe thead th {\n",
       "        text-align: right;\n",
       "    }\n",
       "</style>\n",
       "<table border=\"1\" class=\"dataframe\">\n",
       "  <thead>\n",
       "    <tr style=\"text-align: right;\">\n",
       "      <th></th>\n",
       "      <th>0</th>\n",
       "    </tr>\n",
       "  </thead>\n",
       "  <tbody>\n",
       "    <tr>\n",
       "      <th>job_title</th>\n",
       "      <td>0.318409</td>\n",
       "    </tr>\n",
       "    <tr>\n",
       "      <th>employee_residence</th>\n",
       "      <td>0.139518</td>\n",
       "    </tr>\n",
       "    <tr>\n",
       "      <th>experience_level</th>\n",
       "      <td>0.122988</td>\n",
       "    </tr>\n",
       "    <tr>\n",
       "      <th>company_location</th>\n",
       "      <td>0.121791</td>\n",
       "    </tr>\n",
       "    <tr>\n",
       "      <th>company_size</th>\n",
       "      <td>0.101156</td>\n",
       "    </tr>\n",
       "    <tr>\n",
       "      <th>work_year</th>\n",
       "      <td>0.088253</td>\n",
       "    </tr>\n",
       "    <tr>\n",
       "      <th>remote_ratio</th>\n",
       "      <td>0.087299</td>\n",
       "    </tr>\n",
       "    <tr>\n",
       "      <th>employment_type</th>\n",
       "      <td>0.020586</td>\n",
       "    </tr>\n",
       "  </tbody>\n",
       "</table>\n",
       "</div>"
      ],
      "text/plain": [
       "                           0\n",
       "job_title           0.318409\n",
       "employee_residence  0.139518\n",
       "experience_level    0.122988\n",
       "company_location    0.121791\n",
       "company_size        0.101156\n",
       "work_year           0.088253\n",
       "remote_ratio        0.087299\n",
       "employment_type     0.020586"
      ]
     },
     "execution_count": 23,
     "metadata": {},
     "output_type": "execute_result"
    }
   ],
   "source": [
    "\n",
    "from sklearn.ensemble import RandomForestClassifier\n",
    "clf = RandomForestClassifier()\n",
    "x=df.drop(columns=\"salary_in_usd\")\n",
    "y=df[\"salary_in_usd\"]\n",
    "clf.fit(x,y)\n",
    "feature_imp = pd.DataFrame(clf.feature_importances_,index=x.columns)\n",
    "feature_imp.sort_values(by = 0 , ascending = False)"
   ]
  },
  {
   "cell_type": "code",
   "execution_count": 24,
   "id": "ac284356",
   "metadata": {},
   "outputs": [],
   "source": [
    "X=df.drop(columns=\"salary_in_usd\")\n",
    "y=df[\"salary_in_usd\"]"
   ]
  },
  {
   "cell_type": "code",
   "execution_count": null,
   "id": "2a4998c6",
   "metadata": {},
   "outputs": [],
   "source": []
  },
  {
   "cell_type": "code",
   "execution_count": 25,
   "id": "3110819f",
   "metadata": {},
   "outputs": [
    {
     "name": "stdout",
     "output_type": "stream",
     "text": [
      "Linear Regression: MSE=3486992390.32, R2=0.31\n",
      "Ridge Regression: MSE=3487004113.26, R2=0.31\n",
      "Lasso Regression: MSE=3486992414.11, R2=0.31\n",
      "Decision Tree: MSE=553515625.48, R2=0.89\n",
      "Random Forest: MSE=859273950.15, R2=0.83\n"
     ]
    }
   ],
   "source": [
    "from sklearn.linear_model import LinearRegression\n",
    "from sklearn.linear_model import Ridge, Lasso\n",
    "from sklearn.ensemble import RandomForestRegressor\n",
    "from sklearn.tree import DecisionTreeRegressor\n",
    "from sklearn.metrics import mean_squared_error , r2_score\n",
    "\n",
    "\n",
    "models = [LinearRegression(), \n",
    "          Ridge(), \n",
    "          Lasso(), \n",
    "          DecisionTreeRegressor(), \n",
    "          RandomForestRegressor()]\n",
    "model_names = ['Linear Regression', 'Ridge Regression', 'Lasso Regression', 'Decision Tree', 'Random Forest']\n",
    "\n",
    "# Evaluate each model\n",
    "for model, name in zip(models, model_names):\n",
    "    model.fit(X, y)\n",
    "    y_pred = model.predict(X)\n",
    "    mse = mean_squared_error(y, y_pred)\n",
    "    r2 = r2_score(y, y_pred)\n",
    "    print(f'{name}: MSE={mse:.2f}, R2={r2:.2f}')"
   ]
  },
  {
   "cell_type": "code",
   "execution_count": 26,
   "id": "333c1d3f",
   "metadata": {},
   "outputs": [
    {
     "name": "stdout",
     "output_type": "stream",
     "text": [
      "[ 82384.83       196545.55       100773.56857143  41242.8975\n",
      " 167359.268       79849.66666667 194945.1         39979.257\n",
      " 123343.33333333 111527.505       49485.465       36905.57\n",
      "  44746.02166667 145052.66666667  95979.5         22200.3\n",
      "  33959.525      108009.03        14645.21        57308.46\n",
      "  53568.4225      12362.66        64664.64371429 102564.81428571\n",
      " 105872.65428571 306231.          44947.49        72692.48\n",
      "  92680.         120530.02        62057.5375      78110.5952381\n",
      "  69896.08       358449.39666667  50353.07483333  78349.935\n",
      " 106326.5        200030.          17081.02       146680.\n",
      "  41408.66        81503.69083333  49170.3725     110074.\n",
      "  99018.54428571  35937.67        72040.66857143 202579.52380952\n",
      " 128562.          68940.083       11362.01        79849.66666667\n",
      "  53092.074       52762.03714286  74490.55172414 150922.57\n",
      "  43205.55       125853.81547619 162276.97619048 125853.81547619\n",
      " 110074.         107696.722       28849.01       295848.89833333\n",
      "  54727.27        58931.49        54326.26       210909.35733333\n",
      " 100840.          85364.13583333  63386.78185606  46874.52\n",
      "  71289.5165     111040.27       270595.          63543.11\n",
      " 106619.          44672.57       250623.71428571  64530.83333333\n",
      "  76895.89       134925.27589078  58166.094       51542.35\n",
      " 128534.6         32652.75        52768.95066667 106584.26190476\n",
      " 187135.5         97651.37        90660.68        69781.02\n",
      "  29812.9        243463.48009091  29984.66        77012.69\n",
      "  35365.17       342623.3040293   68325.83333333  88814.7247619\n",
      "  73694.68095238 157481.22835498  52807.25        73694.68095238\n",
      "  90107.55        54172.5065     154083.95333333 125777.99214579\n",
      " 148452.50469212  28170.68        90514.70333333 110397.295\n",
      " 100178.67        41021.42        44733.47       207272.\n",
      "  47478.93        51601.00695238  75175.         134925.27589078\n",
      "  66177.3677619  214702.          64530.83333333  93717.164\n",
      "  25702.784      236791.         148608.323       15593.16\n",
      "  39414.9         51789.32        77456.805       47873.64666667\n",
      " 111293.33333333  38086.79        93230.          93989.34920635\n",
      "  67877.4545      67877.4545     217798.86        90199.16666667\n",
      " 102896.3015873  202194.11111111 158018.66666667 104759.75\n",
      " 134925.27589078  82343.34333333  64276.3275     134925.27589078\n",
      " 163639.25       132312.75       154174.77       148777.23809524\n",
      "  78883.59        36815.36       159647.52678571 116143.486\n",
      "  91802.68       303428.09428571 121381.75992063 130630.\n",
      " 171563.2        109639.87        33311.468       66263.41\n",
      " 121425.1        173175.26996337  78560.23809524 251378.75\n",
      "  66744.         167467.73857143 167467.73857143  81307.5698961\n",
      "  75175.         221650.          82681.56       163639.25\n",
      "  14640.708       61222.22       100820.          21151.08\n",
      "  24390.84        89166.88095238  27371.80666667  76972.65333333\n",
      "  30559.99        19154.23        74773.62097245  72729.109\n",
      "  82347.31        67979.504      153636.4625      28268.03\n",
      "  17362.07       159647.52678571 107516.78       125180.98809524\n",
      "  17004.07        38334.43        70721.96        87990.\n",
      "  64558.71       191575.98571429  47531.70133333  86942.91\n",
      " 150205.26615052  42846.24666667 200933.2        155483.37659674\n",
      "  30411.86       126282.09166667  52616.33        59017.36\n",
      "  62818.79188095  25593.67        39809.36333333 224930.\n",
      "  32262.384       89166.88095238  86316.15       136447.38166667\n",
      "  46756.24        77998.40666667  27250.26        77998.40666667\n",
      " 209918.11       379915.5         94209.54        89166.88095238\n",
      " 153560.42539683  80759.87857143  23625.67       223127.5\n",
      " 203332.33333333 154863.86393551 167467.73857143 140601.20666667\n",
      "  91134.1         46923.42266667  33566.91666667  18675.15\n",
      " 102510.42       102896.3015873  134925.27589078 175900.45413004\n",
      "  30795.86        77622.16139683  42133.65        22341.09\n",
      "  87661.39457143 176753.8        125180.98809524  91225.\n",
      " 470836.25        24989.82       102896.3015873   95725.26\n",
      " 134925.27589078 154704.12       184734.75709091 134840.18333333\n",
      " 125180.98809524  71729.64        17808.14        64874.46\n",
      "  41322.57       141620.89       102255.3302381  102255.3302381\n",
      "  32393.03        64233.42        78560.23809524  32242.7\n",
      "  77230.67        74450.75        79839.42166667  90199.16666667\n",
      "  75289.16666667  63515.03        49186.41333333  48009.26\n",
      " 134925.27589078  82225.26        58804.06       170270.\n",
      "  85799.72666667  75545.9        108942.62       125180.98809524\n",
      "  52386.12       142327.11385412 113924.13002797 113924.13002797\n",
      " 118297.33015873 118297.33015873 159496.82111392 159496.82111392\n",
      " 113924.13002797 113924.13002797 165876.23704251 165876.23704251\n",
      " 106472.33940476 106472.33940476 165876.23704251 165876.23704251\n",
      "  54729.91783261 117107.23576462 117107.23576462 115543.20634921\n",
      " 115543.20634921 242799.43650794 242799.43650794  84837.71762266\n",
      "  84837.71762266  86561.57905159  86561.57905159 165876.23704251\n",
      "  54729.91783261 165876.23704251 113924.13002797 132254.89073399\n",
      " 132254.89073399 132254.89073399 132254.89073399 167153.00277778\n",
      " 167153.00277778 113924.13002797 122809.70238095 122809.70238095\n",
      " 113924.13002797 120289.65277778 113924.13002797 113924.13002797\n",
      " 113924.13002797 113924.13002797 142327.11385412 142327.11385412\n",
      " 120289.65277778 142327.11385412 113924.13002797 113924.13002797\n",
      " 142327.11385412 142327.11385412 200267.20535714 200267.20535714\n",
      " 151502.66666667 142327.11385412 132254.89073399 143091.46468254\n",
      " 140586.71376984 113924.13002797 151127.63436551 151127.63436551\n",
      " 165876.23704251 165876.23704251  75889.07830952  75889.07830952\n",
      " 143091.46468254 165876.23704251 133879.44333333 133879.44333333\n",
      "  95215.73961039  95215.73961039  95215.73961039  95215.73961039\n",
      " 140586.71376984 165876.23704251 132254.89073399  67691.04857143\n",
      " 151502.66666667 165876.23704251 165876.23704251 177374.54559091\n",
      " 177374.54559091  62519.37464286  62519.37464286 113051.96\n",
      " 117107.23576462 142327.11385412 196068.55928752 196068.55928752\n",
      " 142327.11385412 142327.11385412 113924.13002797 113924.13002797\n",
      "  72048.95       142327.11385412  53148.014      117107.23576462\n",
      " 142327.11385412 109089.55333333 109089.55333333 140280.13333333\n",
      " 113924.13002797 113924.13002797 125408.45269841 125408.45269841\n",
      "  80726.09        86561.57905159 186203.06151099 186203.06151099\n",
      " 166007.52225275 166007.52225275 117107.23576462 117107.23576462\n",
      " 142327.11385412  86561.57905159  67691.04857143 166007.52225275\n",
      "  46576.44175758 165876.23704251  84837.71762266  84837.71762266\n",
      "  69462.69424603  69462.69424603  84483.91775469  84483.91775469\n",
      " 165876.23704251  75248.27833333 105586.07023413 137496.055\n",
      " 137496.055      190849.02380952 190849.02380952 143091.46468254\n",
      " 143091.46468254 105586.07023413 166007.52225275  69651.17720238\n",
      " 167153.00277778  46576.44175758  40714.95138095  40714.95138095\n",
      "  69651.17720238  69651.17720238  84483.91775469  84483.91775469\n",
      "  69651.17720238  69462.69424603 177374.54559091 177374.54559091\n",
      "  38733.36366667  38733.36366667  84483.91775469  84483.91775469\n",
      " 167153.00277778  69462.69424603 166007.52225275 166007.52225275\n",
      " 142327.11385412  41107.17       142327.11385412  81580.42\n",
      " 159822.81       132940.485      107584.          76397.415\n",
      " 142327.11385412  94463.2         22843.05        34608.4575\n",
      "  54343.3        147353.71866667  63330.01738095  22950.487\n",
      " 150938.32       100875.         160452.6        165876.23704251\n",
      " 142327.11385412 165876.23704251 120289.65277778 120289.65277778\n",
      " 165876.23704251 165876.23704251  84837.71762266  84837.71762266\n",
      " 165876.23704251 188223.00952381 137881.86507937 137881.86507937\n",
      "  88351.46428571  88351.46428571 242799.43650794 242799.43650794\n",
      " 142327.11385412 188223.00952381 165876.23704251  72110.52\n",
      "  98330.61690476  44090.11       160474.54        82057.875\n",
      "  38311.3375      88647.93       104833.45333333 136998.09121429\n",
      "  54584.48214286 165876.23704251  93248.9475      72856.25\n",
      "  70219.38        49481.68638095  39437.88        94124.42\n",
      " 142327.11385412  96760.65        78654.6         84026.95\n",
      " 196881.5        199828.5        121979.11        76271.62\n",
      "  79650.          68610.68083333  22111.905       60188.64\n",
      " 151127.63436551  68552.65578571 108055.57238095 260772.76213333\n",
      "  72117.43538095  18191.17        27641.58033333 285574.21855934\n",
      " 139098.03174603 260772.76213333 137881.86507937 113924.13002797\n",
      " 113924.13002797 113924.13002797  79606.74666667  79606.74666667\n",
      " 188223.00952381 188223.00952381 196068.55928752 196068.55928752\n",
      " 113924.13002797 142327.11385412 118297.33015873 118297.33015873\n",
      " 113924.13002797 113924.13002797 105586.07023413 105586.07023413\n",
      " 142327.11385412 142327.11385412 142327.11385412 142327.11385412\n",
      " 113924.13002797 142327.11385412 167153.00277778 167153.00277778\n",
      " 165876.23704251 165876.23704251 142327.11385412 142327.11385412\n",
      " 142327.11385412 132254.89073399 143091.46468254 143091.46468254\n",
      " 193684.19897436 193684.19897436 142327.11385412 142327.11385412\n",
      " 113924.13002797 132254.89073399 113924.13002797  57467.8515\n",
      " 113924.13002797 165876.23704251 165876.23704251 165876.23704251\n",
      " 113924.13002797 113924.13002797 165876.23704251 165876.23704251\n",
      " 165876.23704251 113924.13002797 142327.11385412 142327.11385412\n",
      " 113924.13002797 113924.13002797 142327.11385412 142327.11385412\n",
      " 113924.13002797 113924.13002797  57467.8515     165876.23704251\n",
      " 117107.23576462 113924.13002797 196068.55928752 196068.55928752\n",
      " 165876.23704251 165876.23704251 125408.45269841 125408.45269841\n",
      " 165876.23704251 113924.13002797 137881.86507937 137881.86507937\n",
      "  60794.79        60794.79       142327.11385412 142327.11385412\n",
      " 117107.23576462 113924.13002797 154735.19      ]\n"
     ]
    }
   ],
   "source": [
    "print (y_pred)"
   ]
  },
  {
   "cell_type": "code",
   "execution_count": 27,
   "id": "db09a81c",
   "metadata": {},
   "outputs": [
    {
     "name": "stdout",
     "output_type": "stream",
     "text": [
      "0       79833\n",
      "1      260000\n",
      "2      109024\n",
      "3       20000\n",
      "4      150000\n",
      "        ...  \n",
      "602    154000\n",
      "603    126000\n",
      "604    129000\n",
      "605    150000\n",
      "606    200000\n",
      "Name: salary_in_usd, Length: 607, dtype: int64\n"
     ]
    }
   ],
   "source": [
    "print(y)"
   ]
  },
  {
   "cell_type": "code",
   "execution_count": 28,
   "id": "d8d0ffe3",
   "metadata": {},
   "outputs": [
    {
     "data": {
      "text/plain": [
       "0.8290559275487933"
      ]
     },
     "execution_count": 28,
     "metadata": {},
     "output_type": "execute_result"
    }
   ],
   "source": [
    "from sklearn import metrics\n",
    "error_score = metrics.r2_score(y,y_pred)\n",
    "error_score"
   ]
  },
  {
   "cell_type": "code",
   "execution_count": 29,
   "id": "de2368ef",
   "metadata": {},
   "outputs": [
    {
     "data": {
      "image/png": "[encoded data removed]",
      "text/plain": [
       "<Figure size 432x288 with 1 Axes>"
      ]
     },
     "metadata": {
      "needs_background": "light"
     },
     "output_type": "display_data"
    }
   ],
   "source": [
    "y_pred = list(y)\n",
    "plt.plot(y, color='blue', label = 'Actual Value')\n",
    "plt.plot(y_pred, color='green', label='Predicted Value')\n",
    "plt.title('Actual Price vs Predicted Price')\n",
    "plt.xlabel('Number of values')\n",
    "plt.ylabel('GLD Price')\n",
    "plt.legend()\n",
    "plt.show()"
   ]
  },
  {
   "cell_type": "code",
   "execution_count": 36,
   "id": "3413b7b8",
   "metadata": {},
   "outputs": [],
   "source": [
    "import pickle\n",
    "filename = 'Data Science Jobs Analysis.sav'\n",
    "pickle.dump(model, open(filename, 'wb'))"
   ]
  },
  {
   "cell_type": "code",
   "execution_count": 38,
   "id": "bb343062",
   "metadata": {},
   "outputs": [],
   "source": [
    "loaded_model = pickle.load(open('Data Science Jobs Analysis.sav', 'rb'))"
   ]
  },
  {
   "cell_type": "code",
   "execution_count": 39,
   "id": "18c4391c",
   "metadata": {},
   "outputs": [
    {
     "name": "stdout",
     "output_type": "stream",
     "text": [
      "[66118.48]\n"
     ]
    },
    {
     "name": "stderr",
     "output_type": "stream",
     "text": [
      "/Users/devansh/opt/anaconda3/lib/python3.9/site-packages/sklearn/base.py:450: UserWarning: X does not have valid feature names, but RandomForestRegressor was fitted with feature names\n",
      "  warnings.warn(\n"
     ]
    }
   ],
   "source": [
    "import numpy as np\n",
    "input_data = (2020,,2,3,12,50,4,0)\n",
    "\n",
    "# changing the input_data to numpy array\n",
    "input_data_as_numpy_array = np.asarray(input_data)\n",
    "\n",
    "# reshape the array as we are predicting for one instance\n",
    "input_data_reshaped = input_data_as_numpy_array.reshape(1,-1)\n",
    "\n",
    "prediction = loaded_model.predict(input_data_reshaped)\n",
    "print(prediction)"
   ]
  },
  {
   "cell_type": "code",
   "execution_count": 33,
   "id": "1a84d4a8",
   "metadata": {},
   "outputs": [
    {
     "data": {
      "text/html": [
       "<div>\n",
       "<style scoped>\n",
       "    .dataframe tbody tr th:only-of-type {\n",
       "        vertical-align: middle;\n",
       "    }\n",
       "\n",
       "    .dataframe tbody tr th {\n",
       "        vertical-align: top;\n",
       "    }\n",
       "\n",
       "    .dataframe thead th {\n",
       "        text-align: right;\n",
       "    }\n",
       "</style>\n",
       "<table border=\"1\" class=\"dataframe\">\n",
       "  <thead>\n",
       "    <tr style=\"text-align: right;\">\n",
       "      <th></th>\n",
       "      <th>work_year</th>\n",
       "      <th>experience_level</th>\n",
       "      <th>employment_type</th>\n",
       "      <th>job_title</th>\n",
       "      <th>salary_in_usd</th>\n",
       "      <th>employee_residence</th>\n",
       "      <th>remote_ratio</th>\n",
       "      <th>company_location</th>\n",
       "      <th>company_size</th>\n",
       "    </tr>\n",
       "  </thead>\n",
       "  <tbody>\n",
       "    <tr>\n",
       "      <th>0</th>\n",
       "      <td>2020</td>\n",
       "      <td>2</td>\n",
       "      <td>2</td>\n",
       "      <td>22</td>\n",
       "      <td>79833</td>\n",
       "      <td>14</td>\n",
       "      <td>0</td>\n",
       "      <td>12</td>\n",
       "      <td>0</td>\n",
       "    </tr>\n",
       "    <tr>\n",
       "      <th>1</th>\n",
       "      <td>2020</td>\n",
       "      <td>3</td>\n",
       "      <td>2</td>\n",
       "      <td>41</td>\n",
       "      <td>260000</td>\n",
       "      <td>32</td>\n",
       "      <td>0</td>\n",
       "      <td>29</td>\n",
       "      <td>2</td>\n",
       "    </tr>\n",
       "    <tr>\n",
       "      <th>2</th>\n",
       "      <td>2020</td>\n",
       "      <td>3</td>\n",
       "      <td>2</td>\n",
       "      <td>7</td>\n",
       "      <td>109024</td>\n",
       "      <td>20</td>\n",
       "      <td>50</td>\n",
       "      <td>18</td>\n",
       "      <td>1</td>\n",
       "    </tr>\n",
       "    <tr>\n",
       "      <th>3</th>\n",
       "      <td>2020</td>\n",
       "      <td>2</td>\n",
       "      <td>2</td>\n",
       "      <td>47</td>\n",
       "      <td>20000</td>\n",
       "      <td>23</td>\n",
       "      <td>0</td>\n",
       "      <td>20</td>\n",
       "      <td>2</td>\n",
       "    </tr>\n",
       "    <tr>\n",
       "      <th>4</th>\n",
       "      <td>2020</td>\n",
       "      <td>3</td>\n",
       "      <td>2</td>\n",
       "      <td>38</td>\n",
       "      <td>150000</td>\n",
       "      <td>55</td>\n",
       "      <td>50</td>\n",
       "      <td>48</td>\n",
       "      <td>0</td>\n",
       "    </tr>\n",
       "    <tr>\n",
       "      <th>...</th>\n",
       "      <td>...</td>\n",
       "      <td>...</td>\n",
       "      <td>...</td>\n",
       "      <td>...</td>\n",
       "      <td>...</td>\n",
       "      <td>...</td>\n",
       "      <td>...</td>\n",
       "      <td>...</td>\n",
       "      <td>...</td>\n",
       "    </tr>\n",
       "    <tr>\n",
       "      <th>602</th>\n",
       "      <td>2022</td>\n",
       "      <td>3</td>\n",
       "      <td>2</td>\n",
       "      <td>17</td>\n",
       "      <td>154000</td>\n",
       "      <td>55</td>\n",
       "      <td>100</td>\n",
       "      <td>48</td>\n",
       "      <td>1</td>\n",
       "    </tr>\n",
       "    <tr>\n",
       "      <th>603</th>\n",
       "      <td>2022</td>\n",
       "      <td>3</td>\n",
       "      <td>2</td>\n",
       "      <td>17</td>\n",
       "      <td>126000</td>\n",
       "      <td>55</td>\n",
       "      <td>100</td>\n",
       "      <td>48</td>\n",
       "      <td>1</td>\n",
       "    </tr>\n",
       "    <tr>\n",
       "      <th>604</th>\n",
       "      <td>2022</td>\n",
       "      <td>3</td>\n",
       "      <td>2</td>\n",
       "      <td>12</td>\n",
       "      <td>129000</td>\n",
       "      <td>55</td>\n",
       "      <td>0</td>\n",
       "      <td>48</td>\n",
       "      <td>1</td>\n",
       "    </tr>\n",
       "    <tr>\n",
       "      <th>605</th>\n",
       "      <td>2022</td>\n",
       "      <td>3</td>\n",
       "      <td>2</td>\n",
       "      <td>12</td>\n",
       "      <td>150000</td>\n",
       "      <td>55</td>\n",
       "      <td>100</td>\n",
       "      <td>48</td>\n",
       "      <td>1</td>\n",
       "    </tr>\n",
       "    <tr>\n",
       "      <th>606</th>\n",
       "      <td>2022</td>\n",
       "      <td>2</td>\n",
       "      <td>2</td>\n",
       "      <td>1</td>\n",
       "      <td>200000</td>\n",
       "      <td>27</td>\n",
       "      <td>100</td>\n",
       "      <td>48</td>\n",
       "      <td>0</td>\n",
       "    </tr>\n",
       "  </tbody>\n",
       "</table>\n",
       "<p>607 rows × 9 columns</p>\n",
       "</div>"
      ],
      "text/plain": [
       "     work_year  experience_level  employment_type  job_title  salary_in_usd  \\\n",
       "0         2020                 2                2         22          79833   \n",
       "1         2020                 3                2         41         260000   \n",
       "2         2020                 3                2          7         109024   \n",
       "3         2020                 2                2         47          20000   \n",
       "4         2020                 3                2         38         150000   \n",
       "..         ...               ...              ...        ...            ...   \n",
       "602       2022                 3                2         17         154000   \n",
       "603       2022                 3                2         17         126000   \n",
       "604       2022                 3                2         12         129000   \n",
       "605       2022                 3                2         12         150000   \n",
       "606       2022                 2                2          1         200000   \n",
       "\n",
       "     employee_residence  remote_ratio  company_location  company_size  \n",
       "0                    14             0                12             0  \n",
       "1                    32             0                29             2  \n",
       "2                    20            50                18             1  \n",
       "3                    23             0                20             2  \n",
       "4                    55            50                48             0  \n",
       "..                  ...           ...               ...           ...  \n",
       "602                  55           100                48             1  \n",
       "603                  55           100                48             1  \n",
       "604                  55             0                48             1  \n",
       "605                  55           100                48             1  \n",
       "606                  27           100                48             0  \n",
       "\n",
       "[607 rows x 9 columns]"
      ]
     },
     "execution_count": 33,
     "metadata": {},
     "output_type": "execute_result"
    }
   ],
   "source": [
    "df"
   ]
  },
  {
   "cell_type": "code",
   "execution_count": null,
   "id": "83bbe5f8",
   "metadata": {},
   "outputs": [],
   "source": []
  },
  {
   "cell_type": "code",
   "execution_count": null,
   "id": "45d979da",
   "metadata": {},
   "outputs": [],
   "source": []
  },
  {
   "cell_type": "code",
   "execution_count": null,
   "id": "4563c806",
   "metadata": {},
   "outputs": [],
   "source": []
  },
  {
   "cell_type": "code",
   "execution_count": null,
   "id": "9ea38200",
   "metadata": {},
   "outputs": [],
   "source": []
  },
  {
   "cell_type": "code",
   "execution_count": null,
   "id": "b404c3aa",
   "metadata": {},
   "outputs": [],
   "source": []
  },
  {
   "cell_type": "code",
   "execution_count": null,
   "id": "7869f94c",
   "metadata": {},
   "outputs": [],
   "source": []
  },
  {
   "cell_type": "code",
   "execution_count": null,
   "id": "69dee751",
   "metadata": {},
   "outputs": [],
   "source": []
  },
  {
   "cell_type": "code",
   "execution_count": null,
   "id": "f5c09578",
   "metadata": {},
   "outputs": [],
   "source": []
  },
  {
   "cell_type": "code",
   "execution_count": null,
   "id": "1f2ecef9",
   "metadata": {},
   "outputs": [],
   "source": []
  }
 ],
 "metadata": {
  "kernelspec": {
   "display_name": "Python 3 (ipykernel)",
   "language": "python",
   "name": "python3"
  },
  "language_info": {
   "codemirror_mode": {
    "name": "ipython",
    "version": 3
   },
   "file_extension": ".py",
   "mimetype": "text/x-python",
   "name": "python",
   "nbconvert_exporter": "python",
   "pygments_lexer": "ipython3",
   "version": "3.9.12"
  }
 },
 "nbformat": 4,
 "nbformat_minor": 5
}
